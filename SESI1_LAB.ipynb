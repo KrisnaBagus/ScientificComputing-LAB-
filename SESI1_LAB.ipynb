https://colab.research.google.com/drive/1yyIb3yquenPxbhTpcIe2IxfAJpsCRv6b#scrollTo=qLgPT4sfweqg
