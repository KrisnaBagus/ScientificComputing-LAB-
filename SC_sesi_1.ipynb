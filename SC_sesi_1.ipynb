{
  "nbformat": 4,
  "nbformat_minor": 0,
  "metadata": {
    "colab": {
      "provenance": [],
      "authorship_tag": "ABX9TyM0cltIwLRQ3wWLbHIFamFh",
      "include_colab_link": true
    },
    "kernelspec": {
      "name": "python3",
      "display_name": "Python 3"
    },
    "language_info": {
      "name": "python"
    }
  },
  "cells": [
    {
      "cell_type": "markdown",
      "metadata": {
        "id": "view-in-github",
        "colab_type": "text"
      },
      "source": [
        "<a href=\"https://colab.research.google.com/github/KrisnaBagus/ScientificComputing-LAB-/blob/main/SC_sesi_1.ipynb\" target=\"_parent\"><img src=\"https://colab.research.google.com/assets/colab-badge.svg\" alt=\"Open In Colab\"/></a>"
      ]
    },
    {
      "cell_type": "markdown",
      "source": [
        "Sesi 1"
      ],
      "metadata": {
        "id": "312x4EcnjG2x"
      }
    },
    {
      "cell_type": "code",
      "source": [
        "print(\"Hello Word\")"
      ],
      "metadata": {
        "colab": {
          "base_uri": "https://localhost:8080/"
        },
        "id": "xUlRx2_1jSni",
        "outputId": "f2ed6874-74f6-4ab2-f6a4-a749a471b9c6"
      },
      "execution_count": 1,
      "outputs": [
        {
          "output_type": "stream",
          "name": "stdout",
          "text": [
            "Hello Word\n"
          ]
        }
      ]
    },
    {
      "cell_type": "code",
      "source": [
        "import time\n",
        "\n",
        "print(time.ctime())"
      ],
      "metadata": {
        "colab": {
          "base_uri": "https://localhost:8080/"
        },
        "id": "P027670Xjp2w",
        "outputId": "47b9dbe1-4db2-43c1-be42-534137a081eb"
      },
      "execution_count": 4,
      "outputs": [
        {
          "output_type": "stream",
          "name": "stdout",
          "text": [
            "Thu Feb  6 04:41:43 2025\n"
          ]
        }
      ]
    },
    {
      "cell_type": "code",
      "source": [
        "z = \"Hello\"\n",
        "y = 20\n",
        "c = 30.9\n",
        "f = [\"Apple\", \"Berry\"]\n",
        "\n",
        "z, y, c, f\n",
        "print(z, y, c, f)"
      ],
      "metadata": {
        "colab": {
          "base_uri": "https://localhost:8080/"
        },
        "id": "wnskOhvckHIt",
        "outputId": "1572f070-f313-4bec-e51f-cf80ab66726a"
      },
      "execution_count": 7,
      "outputs": [
        {
          "output_type": "stream",
          "name": "stdout",
          "text": [
            "Hello 20 30.9 ['Apple', 'Berry']\n"
          ]
        }
      ]
    },
    {
      "cell_type": "code",
      "source": [
        "o = int(1)\n",
        "y = int(2.8)\n",
        "z = int(\"3\")\n",
        "j = str(20)\n",
        "\n",
        "o, y, z, j\n",
        "print(o, y, z, j)"
      ],
      "metadata": {
        "colab": {
          "base_uri": "https://localhost:8080/"
        },
        "id": "9QrFBnwPk3uW",
        "outputId": "07754644-efac-43dc-9234-cf661df805ea"
      },
      "execution_count": 9,
      "outputs": [
        {
          "output_type": "stream",
          "name": "stdout",
          "text": [
            "1 2 3 20\n"
          ]
        }
      ]
    },
    {
      "cell_type": "code",
      "source": [
        "a = \"Hello\"\n",
        "b = \" World\"\n",
        "c = a + b\n",
        "\n",
        "print(c)"
      ],
      "metadata": {
        "colab": {
          "base_uri": "https://localhost:8080/"
        },
        "id": "_iW_hRC7l5o1",
        "outputId": "77b06010-596a-4598-8378-db2f37e9df97"
      },
      "execution_count": 13,
      "outputs": [
        {
          "output_type": "stream",
          "name": "stdout",
          "text": [
            "Hello World\n"
          ]
        }
      ]
    },
    {
      "cell_type": "code",
      "source": [
        "a = \"Hello World\"\n",
        "print(a[1])\n",
        "\n",
        "print(len(a))"
      ],
      "metadata": {
        "colab": {
          "base_uri": "https://localhost:8080/"
        },
        "id": "sBi6XkAwmTv6",
        "outputId": "8284e17f-6818-4a08-b1f7-70ecba73f447"
      },
      "execution_count": 14,
      "outputs": [
        {
          "output_type": "stream",
          "name": "stdout",
          "text": [
            "e\n",
            "11\n"
          ]
        }
      ]
    },
    {
      "cell_type": "code",
      "source": [
        "b = \"BINUS Univ\"\n",
        "print(b[2:5])\n",
        "\n",
        "c = \"BINUS Univ\"\n",
        "print(c[:5])\n",
        "\n",
        "d = \"BINUS Univ\"\n",
        "print(d[2:])\n"
      ],
      "metadata": {
        "colab": {
          "base_uri": "https://localhost:8080/"
        },
        "id": "Z21-2tEdmqX2",
        "outputId": "ad8938a0-05b9-475a-e1ee-a16647514874"
      },
      "execution_count": 18,
      "outputs": [
        {
          "output_type": "stream",
          "name": "stdout",
          "text": [
            "NUS\n",
            "BINUS\n",
            "NUS Univ\n"
          ]
        }
      ]
    },
    {
      "cell_type": "code",
      "source": [
        "a = \"Hello\"\n",
        "print(a.upper())\n",
        "\n",
        "b = \"Hello\"\n",
        "print(b.lower())\n",
        "\n",
        "c = \"Hello\"\n",
        "print(c.replace(\"H\", \"J\"))"
      ],
      "metadata": {
        "colab": {
          "base_uri": "https://localhost:8080/"
        },
        "id": "Wc9h6NuxnJxQ",
        "outputId": "fc7ff514-42ee-4f37-dadd-2f212ff73049"
      },
      "execution_count": 19,
      "outputs": [
        {
          "output_type": "stream",
          "name": "stdout",
          "text": [
            "HELLO\n",
            "hello\n",
            "Jello\n"
          ]
        }
      ]
    },
    {
      "cell_type": "code",
      "source": [
        "nama = \"Sam\"\n",
        "\n",
        "x = 19\n",
        "\n",
        "string = \"nama saya {} umur {}\"\n",
        "\n",
        "print(string.format(nama, x))"
      ],
      "metadata": {
        "colab": {
          "base_uri": "https://localhost:8080/"
        },
        "id": "_nz2GJBWoNRy",
        "outputId": "f7472417-0216-4923-ef9c-8c9bc85fed7f"
      },
      "execution_count": 20,
      "outputs": [
        {
          "output_type": "stream",
          "name": "stdout",
          "text": [
            "nama saya Sam umur 19\n"
          ]
        }
      ]
    },
    {
      "cell_type": "code",
      "source": [
        "nama = \"Grace\"\n",
        "for i in enumerate(nama):\n",
        "  print(i)"
      ],
      "metadata": {
        "colab": {
          "base_uri": "https://localhost:8080/"
        },
        "id": "sJMyJJAEoxs1",
        "outputId": "76a734c4-8009-43c0-a083-e7d6b7e790b2"
      },
      "execution_count": 22,
      "outputs": [
        {
          "output_type": "stream",
          "name": "stdout",
          "text": [
            "(0, 'G')\n",
            "(1, 'r')\n",
            "(2, 'a')\n",
            "(3, 'c')\n",
            "(4, 'e')\n"
          ]
        }
      ]
    },
    {
      "cell_type": "code",
      "source": [
        "def perbandingan (a,b):\n",
        "  if a>b:\n",
        "    print(\"a lebih dari b\")\n",
        "  elif a<b:\n",
        "    print(\"a kurang dari b\")\n",
        "  else:\n",
        "    print(\"a = b\")"
      ],
      "metadata": {
        "id": "U4jb-wtopfRb"
      },
      "execution_count": 29,
      "outputs": []
    },
    {
      "cell_type": "code",
      "source": [
        "perbandingan (4,8)"
      ],
      "metadata": {
        "colab": {
          "base_uri": "https://localhost:8080/"
        },
        "id": "0wSvx1rsqnHA",
        "outputId": "b50e808b-ab82-4a74-fd7c-9dea9479c412"
      },
      "execution_count": 30,
      "outputs": [
        {
          "output_type": "stream",
          "name": "stdout",
          "text": [
            "a kurang dari b\n"
          ]
        }
      ]
    },
    {
      "cell_type": "code",
      "source": [
        "i=1\n",
        "while i<6:\n",
        "  print(i)\n",
        "  i += 1"
      ],
      "metadata": {
        "colab": {
          "base_uri": "https://localhost:8080/"
        },
        "id": "lWzmOzJ7q2Q7",
        "outputId": "ccfad1b3-e9f3-40b9-fb20-a6824850d63c"
      },
      "execution_count": 31,
      "outputs": [
        {
          "output_type": "stream",
          "name": "stdout",
          "text": [
            "1\n",
            "2\n",
            "3\n",
            "4\n",
            "5\n"
          ]
        }
      ]
    },
    {
      "cell_type": "code",
      "source": [
        "i=1\n",
        "for i in range(0,6):\n",
        "  print(i)"
      ],
      "metadata": {
        "colab": {
          "base_uri": "https://localhost:8080/"
        },
        "id": "xl6p2I4wrdlt",
        "outputId": "0013295c-a522-4a50-fed4-12d167452358"
      },
      "execution_count": 35,
      "outputs": [
        {
          "output_type": "stream",
          "name": "stdout",
          "text": [
            "0\n",
            "1\n",
            "2\n",
            "3\n",
            "4\n",
            "5\n"
          ]
        }
      ]
    },
    {
      "cell_type": "code",
      "source": [
        "for i in range(2,40):\n",
        "  if i % 2==0:\n",
        "    print(i, \"Genap\")\n",
        "  else:\n",
        "      print(i, \"Ganjil\")"
      ],
      "metadata": {
        "colab": {
          "base_uri": "https://localhost:8080/"
        },
        "id": "0_DTx8mYrpff",
        "outputId": "94a95bc8-5153-43be-afcf-be64dde208bd"
      },
      "execution_count": 40,
      "outputs": [
        {
          "output_type": "stream",
          "name": "stdout",
          "text": [
            "2 Genap\n",
            "3 Ganjil\n",
            "4 Genap\n",
            "5 Ganjil\n",
            "6 Genap\n",
            "7 Ganjil\n",
            "8 Genap\n",
            "9 Ganjil\n",
            "10 Genap\n",
            "11 Ganjil\n",
            "12 Genap\n",
            "13 Ganjil\n",
            "14 Genap\n",
            "15 Ganjil\n",
            "16 Genap\n",
            "17 Ganjil\n",
            "18 Genap\n",
            "19 Ganjil\n",
            "20 Genap\n",
            "21 Ganjil\n",
            "22 Genap\n",
            "23 Ganjil\n",
            "24 Genap\n",
            "25 Ganjil\n",
            "26 Genap\n",
            "27 Ganjil\n",
            "28 Genap\n",
            "29 Ganjil\n",
            "30 Genap\n",
            "31 Ganjil\n",
            "32 Genap\n",
            "33 Ganjil\n",
            "34 Genap\n",
            "35 Ganjil\n",
            "36 Genap\n",
            "37 Ganjil\n",
            "38 Genap\n",
            "39 Ganjil\n"
          ]
        }
      ]
    },
    {
      "cell_type": "code",
      "source": [
        "import numpy as np"
      ],
      "metadata": {
        "id": "mqYtvWypv9ej"
      },
      "execution_count": 42,
      "outputs": []
    },
    {
      "cell_type": "code",
      "source": [
        "x = np.array([[1, 2, 3], [3, 6, 7]])\n",
        "print(x)"
      ],
      "metadata": {
        "colab": {
          "base_uri": "https://localhost:8080/"
        },
        "id": "En4uGD17vj0u",
        "outputId": "20db9d52-2d29-48a7-ba5c-e96180913425"
      },
      "execution_count": 43,
      "outputs": [
        {
          "output_type": "stream",
          "name": "stdout",
          "text": [
            "[[1 2 3]\n",
            " [3 6 7]]\n"
          ]
        }
      ]
    },
    {
      "cell_type": "code",
      "source": [
        "y = np.array([[8, 2, 9], [3, 5, 7]])\n",
        "x + y\n"
      ],
      "metadata": {
        "colab": {
          "base_uri": "https://localhost:8080/"
        },
        "id": "SpwSyNDUwKTx",
        "outputId": "81945ab2-37ce-4ee2-8fd6-47b769c9c101"
      },
      "execution_count": 45,
      "outputs": [
        {
          "output_type": "execute_result",
          "data": {
            "text/plain": [
              "array([[ 9,  4, 12],\n",
              "       [ 6, 11, 14]])"
            ]
          },
          "metadata": {},
          "execution_count": 45
        }
      ]
    },
    {
      "cell_type": "code",
      "source": [
        "data = np.array([10, 9, 8, 7, 5, 6])\n",
        "print(\"Rata-rata :\", np.mean(data))\n",
        "print(\"Maksimum :\", np.max(data))\n",
        "print(\"Minimum : \", np.min(data))\n",
        "print(\"Standar Deviasi : \", np.std(data))"
      ],
      "metadata": {
        "colab": {
          "base_uri": "https://localhost:8080/"
        },
        "id": "qLgPT4sfweqg",
        "outputId": "c9d4bbce-03e5-40db-88e0-021cfce0acc9"
      },
      "execution_count": 46,
      "outputs": [
        {
          "output_type": "stream",
          "name": "stdout",
          "text": [
            "Rata-rata : 7.5\n",
            "Maksimum : 10\n",
            "Minimum :  5\n",
            "Standar Deviasi :  1.707825127659933\n"
          ]
        }
      ]
    }
  ]
}